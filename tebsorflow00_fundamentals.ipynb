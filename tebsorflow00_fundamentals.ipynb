{
  "nbformat": 4,
  "nbformat_minor": 0,
  "metadata": {
    "colab": {
      "provenance": [],
      "authorship_tag": "ABX9TyNrd1qCB+p5BFLmXbDKr3VT",
      "include_colab_link": true
    },
    "kernelspec": {
      "name": "python3",
      "display_name": "Python 3"
    },
    "language_info": {
      "name": "python"
    }
  },
  "cells": [
    {
      "cell_type": "markdown",
      "metadata": {
        "id": "view-in-github",
        "colab_type": "text"
      },
      "source": [
        "<a href=\"https://colab.research.google.com/github/MINIVO2/Basics_of_Tf/blob/main/tebsorflow00_fundamentals.ipynb\" target=\"_parent\"><img src=\"https://colab.research.google.com/assets/colab-badge.svg\" alt=\"Open In Colab\"/></a>"
      ]
    },
    {
      "cell_type": "markdown",
      "source": [
        "#Fundamentals of **tensorflow**\n",
        "\n"
      ],
      "metadata": {
        "id": "dRleUPk7HjTl"
      }
    },
    {
      "cell_type": "code",
      "source": [
        "#import tensorflow\n",
        "import tensorflow as tf\n",
        "import numpy as np\n",
        "print(tf.__version__)"
      ],
      "metadata": {
        "colab": {
          "base_uri": "https://localhost:8080/"
        },
        "id": "3BCsWu3MLnGW",
        "outputId": "6e0eac08-6847-4b97-f0d1-b8345366000d"
      },
      "execution_count": null,
      "outputs": [
        {
          "output_type": "stream",
          "name": "stdout",
          "text": [
            "2.15.0\n"
          ]
        }
      ]
    },
    {
      "cell_type": "code",
      "source": [
        "#create tensors with tf.constant()\n",
        "scalar = tf.constant(7)\n",
        "scalar\n"
      ],
      "metadata": {
        "colab": {
          "base_uri": "https://localhost:8080/"
        },
        "id": "8opPjFuaLcqX",
        "outputId": "fd4af166-a528-4d8c-ad95-2902121d2309"
      },
      "execution_count": null,
      "outputs": [
        {
          "output_type": "execute_result",
          "data": {
            "text/plain": [
              "<tf.Tensor: shape=(), dtype=int32, numpy=7>"
            ]
          },
          "metadata": {},
          "execution_count": 2
        }
      ]
    },
    {
      "cell_type": "code",
      "source": [
        "#check the number of dimensions of a tensor(ndim stands for number of dimensions)\n",
        "scalar.ndim\n"
      ],
      "metadata": {
        "colab": {
          "base_uri": "https://localhost:8080/"
        },
        "id": "ASaITF-vK6I7",
        "outputId": "983567a3-ff04-4ae7-858d-3b415c7cab0f"
      },
      "execution_count": null,
      "outputs": [
        {
          "output_type": "execute_result",
          "data": {
            "text/plain": [
              "0"
            ]
          },
          "metadata": {},
          "execution_count": 3
        }
      ]
    },
    {
      "cell_type": "code",
      "source": [
        "#create a vector\n",
        "vector = tf.constant([[10,10],\n",
        "                      [7,10]])\n",
        "vector"
      ],
      "metadata": {
        "colab": {
          "base_uri": "https://localhost:8080/"
        },
        "id": "Q-Z9JslqLKaI",
        "outputId": "b431d2ff-bf87-4a2c-c3e5-5950cc56ed26"
      },
      "execution_count": null,
      "outputs": [
        {
          "output_type": "execute_result",
          "data": {
            "text/plain": [
              "<tf.Tensor: shape=(2, 2), dtype=int32, numpy=\n",
              "array([[10, 10],\n",
              "       [ 7, 10]], dtype=int32)>"
            ]
          },
          "metadata": {},
          "execution_count": 4
        }
      ]
    },
    {
      "cell_type": "code",
      "source": [
        "vector.ndim\n"
      ],
      "metadata": {
        "colab": {
          "base_uri": "https://localhost:8080/"
        },
        "id": "QTzwXuPZMA1i",
        "outputId": "ef2a688c-ddf4-4e10-fa78-2d7e3ab08cbd"
      },
      "execution_count": null,
      "outputs": [
        {
          "output_type": "execute_result",
          "data": {
            "text/plain": [
              "2"
            ]
          },
          "metadata": {},
          "execution_count": 5
        }
      ]
    },
    {
      "cell_type": "code",
      "source": [
        "#create a matrix\n",
        "matrix = tf.constant([[10,7],\n",
        "                     [7,10]])\n",
        "matrix"
      ],
      "metadata": {
        "colab": {
          "base_uri": "https://localhost:8080/"
        },
        "id": "kIwFb3AWMJI1",
        "outputId": "a897cedb-e56e-4d15-96fb-af68186e9b2e"
      },
      "execution_count": null,
      "outputs": [
        {
          "output_type": "execute_result",
          "data": {
            "text/plain": [
              "<tf.Tensor: shape=(2, 2), dtype=int32, numpy=\n",
              "array([[10,  7],\n",
              "       [ 7, 10]], dtype=int32)>"
            ]
          },
          "metadata": {},
          "execution_count": 6
        }
      ]
    },
    {
      "cell_type": "code",
      "source": [
        "matrix.ndim"
      ],
      "metadata": {
        "colab": {
          "base_uri": "https://localhost:8080/"
        },
        "id": "zlAhLLvfOgWF",
        "outputId": "c0fe5d2d-c9ba-4fb1-a391-03f83b87d307"
      },
      "execution_count": null,
      "outputs": [
        {
          "output_type": "execute_result",
          "data": {
            "text/plain": [
              "2"
            ]
          },
          "metadata": {},
          "execution_count": 7
        }
      ]
    },
    {
      "cell_type": "code",
      "source": [
        "another_matrix = tf.constant([[3.,4.], [5.,4.],[3.,7.]], dtype = tf.float16)\n",
        "another_matrix"
      ],
      "metadata": {
        "colab": {
          "base_uri": "https://localhost:8080/"
        },
        "id": "MihriP7XP-VK",
        "outputId": "d0c50786-1a3f-4da3-9395-b15626f5d936"
      },
      "execution_count": null,
      "outputs": [
        {
          "output_type": "execute_result",
          "data": {
            "text/plain": [
              "<tf.Tensor: shape=(3, 2), dtype=float16, numpy=\n",
              "array([[3., 4.],\n",
              "       [5., 4.],\n",
              "       [3., 7.]], dtype=float16)>"
            ]
          },
          "metadata": {},
          "execution_count": 8
        }
      ]
    },
    {
      "cell_type": "code",
      "source": [
        "another_matrix.ndim"
      ],
      "metadata": {
        "colab": {
          "base_uri": "https://localhost:8080/"
        },
        "id": "gzx16GduQ81o",
        "outputId": "f58f744d-68b4-4e43-88f4-606fcb3125fe"
      },
      "execution_count": null,
      "outputs": [
        {
          "output_type": "execute_result",
          "data": {
            "text/plain": [
              "2"
            ]
          },
          "metadata": {},
          "execution_count": 9
        }
      ]
    },
    {
      "cell_type": "code",
      "source": [
        "tensor = tf.constant([[[1,2,3],\n",
        "                      [4,5,6]],\n",
        "                     [[7,8,9],\n",
        "                      [9,10,11]],\n",
        "                     [[12,13,14],\n",
        "                      [16,171,17]]])\n",
        "tensor"
      ],
      "metadata": {
        "colab": {
          "base_uri": "https://localhost:8080/"
        },
        "id": "tLro7YGqT27C",
        "outputId": "b3c65468-24af-4562-b195-90843e21a63e"
      },
      "execution_count": null,
      "outputs": [
        {
          "output_type": "execute_result",
          "data": {
            "text/plain": [
              "<tf.Tensor: shape=(3, 2, 3), dtype=int32, numpy=\n",
              "array([[[  1,   2,   3],\n",
              "        [  4,   5,   6]],\n",
              "\n",
              "       [[  7,   8,   9],\n",
              "        [  9,  10,  11]],\n",
              "\n",
              "       [[ 12,  13,  14],\n",
              "        [ 16, 171,  17]]], dtype=int32)>"
            ]
          },
          "metadata": {},
          "execution_count": 10
        }
      ]
    },
    {
      "cell_type": "code",
      "source": [
        "tensor.ndim"
      ],
      "metadata": {
        "colab": {
          "base_uri": "https://localhost:8080/"
        },
        "id": "WDGKbYhvUvuw",
        "outputId": "c6b8ad6f-7fca-4975-80fd-02c57a724888"
      },
      "execution_count": null,
      "outputs": [
        {
          "output_type": "execute_result",
          "data": {
            "text/plain": [
              "3"
            ]
          },
          "metadata": {},
          "execution_count": 11
        }
      ]
    },
    {
      "cell_type": "markdown",
      "source": [
        "what we have created so far:-\n",
        "\n",
        "*scalar : a single number\n",
        "*vector : a number with direction (eg: wind speed and direction)\n",
        "*matrix : a 2-Dimensional array of number(when n can be any number , qa 0 dimensional tensor is a scalar, a 1 dimensional is a vector)\n"
      ],
      "metadata": {
        "id": "xvpwOJWiaTRY"
      }
    },
    {
      "cell_type": "markdown",
      "source": [
        "#CREATING TENSORS WITH tf.variable"
      ],
      "metadata": {
        "id": "NxoNMvqxWxc9"
      }
    },
    {
      "cell_type": "code",
      "source": [
        "changeable_tensor = tf.Variable([10,7], dtype = tf.int16)\n",
        "unchangable_tensor = tf.constant([10,7])\n",
        "changeable_tensor,unchangable_tensor"
      ],
      "metadata": {
        "colab": {
          "base_uri": "https://localhost:8080/"
        },
        "id": "tgrfcsmhYU8I",
        "outputId": "a85b37ad-9f5b-44ec-ec64-d2ea7db197bb"
      },
      "execution_count": null,
      "outputs": [
        {
          "output_type": "execute_result",
          "data": {
            "text/plain": [
              "(<tf.Variable 'Variable:0' shape=(2,) dtype=int16, numpy=array([10,  7], dtype=int16)>,\n",
              " <tf.Tensor: shape=(2,), dtype=int32, numpy=array([10,  7], dtype=int32)>)"
            ]
          },
          "metadata": {},
          "execution_count": 12
        }
      ]
    },
    {
      "cell_type": "code",
      "source": [
        "#to change an item in changable tensor using .assign\n",
        "changeable_tensor[0].assign(7)\n",
        "#we cannot change unchangable_tensor as it is constant"
      ],
      "metadata": {
        "colab": {
          "base_uri": "https://localhost:8080/"
        },
        "id": "PajagkpamisG",
        "outputId": "fe4e8aa9-df13-4877-d2c4-4d2c28441b20"
      },
      "execution_count": null,
      "outputs": [
        {
          "output_type": "execute_result",
          "data": {
            "text/plain": [
              "<tf.Variable 'UnreadVariable' shape=(2,) dtype=int16, numpy=array([7, 7], dtype=int16)>"
            ]
          },
          "metadata": {},
          "execution_count": 13
        }
      ]
    },
    {
      "cell_type": "markdown",
      "source": [
        "note: Rarely in practice will you need to decide whether to use tf.constant or tf.variable to create\n"
      ],
      "metadata": {
        "id": "1meAj0TYoiPP"
      }
    },
    {
      "cell_type": "markdown",
      "source": [
        "## **CREATING RANDOM TENSORS**"
      ],
      "metadata": {
        "id": "e9l5erVbpPXn"
      }
    },
    {
      "cell_type": "code",
      "source": [
        " random_1= tf.random.Generator.from_seed(42)#set seed for reproducibility\n",
        " random_1 = random_1.normal(shape=(3,2))\n",
        " random_2= tf.random.Generator.from_seed(2)#set seed for reproducibility\n",
        " random_2 = random_2.normal(shape=(3,2))\n",
        " random_3 = tf.random.Generator.from_seed(32)\n",
        " random_3 = random_3.normal(shape=(3,2))\n",
        "\n",
        " random_3,random_1"
      ],
      "metadata": {
        "colab": {
          "base_uri": "https://localhost:8080/"
        },
        "id": "-Q7vbhZXpd8w",
        "outputId": "61e77678-b77c-43ae-a92a-cb804fcf3150"
      },
      "execution_count": null,
      "outputs": [
        {
          "output_type": "execute_result",
          "data": {
            "text/plain": [
              "(<tf.Tensor: shape=(3, 2), dtype=float32, numpy=\n",
              " array([[ 0.7901182,  1.585549 ],\n",
              "        [ 0.4356279,  0.2364518],\n",
              "        [-0.1589871,  1.302304 ]], dtype=float32)>,\n",
              " <tf.Tensor: shape=(3, 2), dtype=float32, numpy=\n",
              " array([[-0.7565803 , -0.06854702],\n",
              "        [ 0.07595026, -1.2573844 ],\n",
              "        [-0.23193763, -1.8107855 ]], dtype=float32)>)"
            ]
          },
          "metadata": {},
          "execution_count": 14
        }
      ]
    },
    {
      "cell_type": "code",
      "source": [
        "X1 = tf.random.Generator.from_seed(42)\n",
        "X1 = X1.uniform(shape = (3,2), minval = 0, maxval = 10, dtype = tf.int32)\n",
        "X1"
      ],
      "metadata": {
        "colab": {
          "base_uri": "https://localhost:8080/"
        },
        "id": "AAcznCixowqQ",
        "outputId": "8522a864-8096-45f2-e994-52fc14eb5df6"
      },
      "execution_count": null,
      "outputs": [
        {
          "output_type": "execute_result",
          "data": {
            "text/plain": [
              "<tf.Tensor: shape=(3, 2), dtype=int32, numpy=\n",
              "array([[3, 7],\n",
              "       [6, 8],\n",
              "       [6, 1]], dtype=int32)>"
            ]
          },
          "metadata": {},
          "execution_count": 15
        }
      ]
    },
    {
      "cell_type": "code",
      "source": [
        "F1 = tf.random.Generator.from_seed(42)\n",
        "F1= F1.uniform(shape= [50])\n",
        "F1"
      ],
      "metadata": {
        "colab": {
          "base_uri": "https://localhost:8080/"
        },
        "id": "WhD8U7pGtRlU",
        "outputId": "91e78ef9-cc82-4cb0-c092-9336b1feb8b9"
      },
      "execution_count": null,
      "outputs": [
        {
          "output_type": "execute_result",
          "data": {
            "text/plain": [
              "<tf.Tensor: shape=(50,), dtype=float32, numpy=\n",
              "array([0.7493447 , 0.73561966, 0.45230794, 0.49039817, 0.1889317 ,\n",
              "       0.52027524, 0.8736881 , 0.46921718, 0.63932586, 0.6467117 ,\n",
              "       0.96246755, 0.41009164, 0.86540747, 0.8862978 , 0.27795732,\n",
              "       0.8857763 , 0.2179842 , 0.29115117, 0.03953862, 0.8136791 ,\n",
              "       0.8139852 , 0.52180684, 0.12496924, 0.5488483 , 0.7755773 ,\n",
              "       0.6184403 , 0.24936223, 0.89341843, 0.28422844, 0.70332646,\n",
              "       0.2622137 , 0.4432162 , 0.466465  , 0.05981874, 0.40098202,\n",
              "       0.69292355, 0.1284684 , 0.22770369, 0.33691216, 0.5329138 ,\n",
              "       0.5914326 , 0.21738243, 0.5322075 , 0.05148339, 0.03951418,\n",
              "       0.41866875, 0.78939915, 0.04384279, 0.96955836, 0.49116182],\n",
              "      dtype=float32)>"
            ]
          },
          "metadata": {},
          "execution_count": 16
        }
      ]
    },
    {
      "cell_type": "code",
      "source": [
        "F2 = tf.constant(np.random.randint(0,50, size = 80))\n",
        "F2"
      ],
      "metadata": {
        "colab": {
          "base_uri": "https://localhost:8080/"
        },
        "id": "5EK8F_Gftb_w",
        "outputId": "11688954-799d-4931-eba2-f22fd7c31a06"
      },
      "execution_count": null,
      "outputs": [
        {
          "output_type": "execute_result",
          "data": {
            "text/plain": [
              "<tf.Tensor: shape=(80,), dtype=int64, numpy=\n",
              "array([34,  9,  2, 21, 32,  0, 11, 40, 24, 16, 31, 43,  1, 32, 22, 38, 33,\n",
              "       33, 10, 31, 16, 34,  5, 27, 32, 32, 27, 46, 32,  6, 49,  7, 47, 33,\n",
              "       28,  4, 43, 42, 47, 38, 15, 46, 48,  2, 16, 28, 28, 35, 23, 24, 17,\n",
              "       23, 48,  4, 21, 22, 10, 24, 49, 29, 30,  1,  2, 21, 34,  7, 17, 19,\n",
              "       21, 15, 23, 43, 24, 30, 28, 42,  3, 20, 15, 19])>"
            ]
          },
          "metadata": {},
          "execution_count": 17
        }
      ]
    },
    {
      "cell_type": "code",
      "source": [
        "tf.random.set_seed(42)\n",
        "tf.random.uniform(shape = [50])"
      ],
      "metadata": {
        "colab": {
          "base_uri": "https://localhost:8080/"
        },
        "id": "OALILLrmxAgc",
        "outputId": "a9c42832-969d-41c8-ec8a-fb24fac5fbb6"
      },
      "execution_count": null,
      "outputs": [
        {
          "output_type": "execute_result",
          "data": {
            "text/plain": [
              "<tf.Tensor: shape=(50,), dtype=float32, numpy=\n",
              "array([0.6645621 , 0.44100678, 0.3528825 , 0.46448255, 0.03366041,\n",
              "       0.68467236, 0.74011743, 0.8724445 , 0.22632635, 0.22319686,\n",
              "       0.3103881 , 0.7223358 , 0.13318717, 0.5480639 , 0.5746088 ,\n",
              "       0.8996835 , 0.00946367, 0.5212307 , 0.6345445 , 0.1993283 ,\n",
              "       0.72942245, 0.54583454, 0.10756552, 0.6767061 , 0.6602763 ,\n",
              "       0.33695042, 0.60141766, 0.21062577, 0.8527372 , 0.44062173,\n",
              "       0.9485276 , 0.23752594, 0.81179297, 0.5263394 , 0.494308  ,\n",
              "       0.21612847, 0.8457197 , 0.8718841 , 0.3083862 , 0.6868038 ,\n",
              "       0.23764038, 0.7817228 , 0.9671384 , 0.06870162, 0.79873943,\n",
              "       0.66028714, 0.5871513 , 0.16461694, 0.7381023 , 0.32054043],\n",
              "      dtype=float32)>"
            ]
          },
          "metadata": {},
          "execution_count": 18
        }
      ]
    },
    {
      "cell_type": "markdown",
      "source": [
        "## shuffle the order of elements in a tensor\n"
      ],
      "metadata": {
        "id": "NB3UwkWCo-ah"
      }
    },
    {
      "cell_type": "code",
      "source": [
        "#shuffle a tensor( valuable for when you want to shuffle your data so inherent order dosent affect your leaarning)\n",
        "not_shuffle = tf.constant([[10,2,3],\n",
        "                           [5,17,34],\n",
        "                           [19,23,56]])\n",
        "not_shuffle.ndim\n",
        "shuffle = tf.random.shuffle(not_shuffle)\n"
      ],
      "metadata": {
        "id": "EUJ9N2GQpZS-"
      },
      "execution_count": null,
      "outputs": []
    },
    {
      "cell_type": "markdown",
      "source": [
        "it looks like if we want our shuffled tensors to be in particular/same order, we've got to use the global level random seed as well as the operation level random seed:"
      ],
      "metadata": {
        "id": "RrLFH7mj5dZ2"
      }
    },
    {
      "cell_type": "code",
      "source": [
        "#shuffle our non_shuffled tensor\n",
        "tf.random.set_seed(41) # (global level seed)by changing the seed you can shuffle the values in constant order but in random\n",
        "tf.random.shuffle(not_shuffle,seed = 42)# (operation level seed)"
      ],
      "metadata": {
        "colab": {
          "base_uri": "https://localhost:8080/"
        },
        "id": "miWa9IkJ1VXW",
        "outputId": "46a0789f-493f-403d-ed49-a688aa52dd26"
      },
      "execution_count": null,
      "outputs": [
        {
          "output_type": "execute_result",
          "data": {
            "text/plain": [
              "<tf.Tensor: shape=(3, 3), dtype=int32, numpy=\n",
              "array([[19, 23, 56],\n",
              "       [ 5, 17, 34],\n",
              "       [10,  2,  3]], dtype=int32)>"
            ]
          },
          "metadata": {},
          "execution_count": 20
        }
      ]
    },
    {
      "cell_type": "code",
      "source": [
        "#exercise\n",
        "shuffle_1 = tf.Variable([[2,4],\n",
        "                         [4,5],\n",
        "                         [6,7]])\n",
        "tf.random.set_seed(42) #global\n",
        "tf.random.shuffle(shuffle_1,seed =42)"
      ],
      "metadata": {
        "colab": {
          "base_uri": "https://localhost:8080/"
        },
        "id": "OGQjok9ozaNQ",
        "outputId": "8f795212-bdae-4ad3-e714-216a9dce1167"
      },
      "execution_count": null,
      "outputs": [
        {
          "output_type": "execute_result",
          "data": {
            "text/plain": [
              "<tf.Tensor: shape=(3, 2), dtype=int32, numpy=\n",
              "array([[2, 4],\n",
              "       [4, 5],\n",
              "       [6, 7]], dtype=int32)>"
            ]
          },
          "metadata": {},
          "execution_count": 21
        }
      ]
    },
    {
      "cell_type": "markdown",
      "source": [
        "it looks like if we want our shuffled tensors to be in the same order, we've got to use the global level random seed as well as operation level random seed"
      ],
      "metadata": {
        "id": "axMTcFMdhy-i"
      }
    },
    {
      "cell_type": "markdown",
      "source": [
        "#OTHER WAYS TO CREATE TENSORS"
      ],
      "metadata": {
        "id": "VqBg-kgWifpb"
      }
    },
    {
      "cell_type": "code",
      "source": [
        "#create a tensor of all ones\n",
        "tf.ones([10,7])"
      ],
      "metadata": {
        "colab": {
          "base_uri": "https://localhost:8080/"
        },
        "id": "hiaHmnlqityn",
        "outputId": "3d2eefec-3a16-4db1-cafb-9dd91a20b9a7"
      },
      "execution_count": null,
      "outputs": [
        {
          "output_type": "execute_result",
          "data": {
            "text/plain": [
              "<tf.Tensor: shape=(10, 7), dtype=float32, numpy=\n",
              "array([[1., 1., 1., 1., 1., 1., 1.],\n",
              "       [1., 1., 1., 1., 1., 1., 1.],\n",
              "       [1., 1., 1., 1., 1., 1., 1.],\n",
              "       [1., 1., 1., 1., 1., 1., 1.],\n",
              "       [1., 1., 1., 1., 1., 1., 1.],\n",
              "       [1., 1., 1., 1., 1., 1., 1.],\n",
              "       [1., 1., 1., 1., 1., 1., 1.],\n",
              "       [1., 1., 1., 1., 1., 1., 1.],\n",
              "       [1., 1., 1., 1., 1., 1., 1.],\n",
              "       [1., 1., 1., 1., 1., 1., 1.]], dtype=float32)>"
            ]
          },
          "metadata": {},
          "execution_count": 22
        }
      ]
    },
    {
      "cell_type": "code",
      "source": [
        "#create a tensor of all zeroes\n",
        "tf.zeros([10,7], dtype = tf.int32)"
      ],
      "metadata": {
        "colab": {
          "base_uri": "https://localhost:8080/"
        },
        "id": "lZW5Qtdvi5FI",
        "outputId": "aabdd7fd-f820-43fc-901e-717b077e56db"
      },
      "execution_count": null,
      "outputs": [
        {
          "output_type": "execute_result",
          "data": {
            "text/plain": [
              "<tf.Tensor: shape=(10, 7), dtype=int32, numpy=\n",
              "array([[0, 0, 0, 0, 0, 0, 0],\n",
              "       [0, 0, 0, 0, 0, 0, 0],\n",
              "       [0, 0, 0, 0, 0, 0, 0],\n",
              "       [0, 0, 0, 0, 0, 0, 0],\n",
              "       [0, 0, 0, 0, 0, 0, 0],\n",
              "       [0, 0, 0, 0, 0, 0, 0],\n",
              "       [0, 0, 0, 0, 0, 0, 0],\n",
              "       [0, 0, 0, 0, 0, 0, 0],\n",
              "       [0, 0, 0, 0, 0, 0, 0],\n",
              "       [0, 0, 0, 0, 0, 0, 0]], dtype=int32)>"
            ]
          },
          "metadata": {},
          "execution_count": 23
        }
      ]
    },
    {
      "cell_type": "markdown",
      "source": [
        "# **Turn numpy arrays into tensors**\n",
        "\n",
        "the main difference between numpy arrays and tensorflow tensors is that tensors can run on a gpu (faster numerical computing)"
      ],
      "metadata": {
        "id": "mONYQ7EZjSXA"
      }
    },
    {
      "cell_type": "code",
      "source": [
        "#numpy arrays into tensors\n",
        "import numpy as np\n",
        "np_A= np.arange(0,25, dtype = 'int32')\n",
        "#X = tf.constant([scalar])\n",
        "#y= tf.constant([vector])\n",
        "np_A"
      ],
      "metadata": {
        "colab": {
          "base_uri": "https://localhost:8080/"
        },
        "id": "Oj9DXPVDjuFh",
        "outputId": "3d40b1fa-12d0-4464-c9f3-4359b9f2d03e"
      },
      "execution_count": null,
      "outputs": [
        {
          "output_type": "execute_result",
          "data": {
            "text/plain": [
              "array([ 0,  1,  2,  3,  4,  5,  6,  7,  8,  9, 10, 11, 12, 13, 14, 15, 16,\n",
              "       17, 18, 19, 20, 21, 22, 23, 24], dtype=int32)"
            ]
          },
          "metadata": {},
          "execution_count": 24
        }
      ]
    },
    {
      "cell_type": "code",
      "source": [
        "A = tf.constant(np_A, shape = (5,5)) # shape should be equal to total number of element\n",
        "# if there are 0-25 elements then it should multiply upto 25 or 1-25 then multiply up to 24\n",
        "#change shape\n",
        "B = tf.constant(np_A)\n",
        "A,B"
      ],
      "metadata": {
        "colab": {
          "base_uri": "https://localhost:8080/"
        },
        "id": "pHJpGa6juiiG",
        "outputId": "f48a1642-037c-437f-aadc-64a9ccaf1d70"
      },
      "execution_count": null,
      "outputs": [
        {
          "output_type": "execute_result",
          "data": {
            "text/plain": [
              "(<tf.Tensor: shape=(5, 5), dtype=int32, numpy=\n",
              " array([[ 0,  1,  2,  3,  4],\n",
              "        [ 5,  6,  7,  8,  9],\n",
              "        [10, 11, 12, 13, 14],\n",
              "        [15, 16, 17, 18, 19],\n",
              "        [20, 21, 22, 23, 24]], dtype=int32)>,\n",
              " <tf.Tensor: shape=(25,), dtype=int32, numpy=\n",
              " array([ 0,  1,  2,  3,  4,  5,  6,  7,  8,  9, 10, 11, 12, 13, 14, 15, 16,\n",
              "        17, 18, 19, 20, 21, 22, 23, 24], dtype=int32)>)"
            ]
          },
          "metadata": {},
          "execution_count": 25
        }
      ]
    },
    {
      "cell_type": "markdown",
      "source": [
        "# Getting information from tensors\n",
        "shape - the length(number of elements)\n",
        "of each of the dimensions of a tensor. tensor.shape\n",
        "\n",
        "rank - the number of tensor dimensions. A scalar has rank 0, vector has rank 1, matirx has rank 2, and tensor has rank n. tensor.ndim\n",
        "\n",
        "Axis or dimension - A particular dimension of a tensor.  tensor[0], tensor[:,1]\n",
        "\n",
        "size - total number of items in the tensor tf.size"
      ],
      "metadata": {
        "id": "YsvA8HXRw_Iy"
      }
    },
    {
      "cell_type": "code",
      "source": [
        "#create a rank 4 tensor (4 dimensions)\n",
        "rank_4_tensor = tf.zeros(shape = [2,3,4,5])\n",
        "rank_4_tensor"
      ],
      "metadata": {
        "colab": {
          "base_uri": "https://localhost:8080/"
        },
        "id": "LwB8e0hGCrY6",
        "outputId": "014bf052-41c4-4a94-b314-a641cba38cbb"
      },
      "execution_count": null,
      "outputs": [
        {
          "output_type": "execute_result",
          "data": {
            "text/plain": [
              "<tf.Tensor: shape=(2, 3, 4, 5), dtype=float32, numpy=\n",
              "array([[[[0., 0., 0., 0., 0.],\n",
              "         [0., 0., 0., 0., 0.],\n",
              "         [0., 0., 0., 0., 0.],\n",
              "         [0., 0., 0., 0., 0.]],\n",
              "\n",
              "        [[0., 0., 0., 0., 0.],\n",
              "         [0., 0., 0., 0., 0.],\n",
              "         [0., 0., 0., 0., 0.],\n",
              "         [0., 0., 0., 0., 0.]],\n",
              "\n",
              "        [[0., 0., 0., 0., 0.],\n",
              "         [0., 0., 0., 0., 0.],\n",
              "         [0., 0., 0., 0., 0.],\n",
              "         [0., 0., 0., 0., 0.]]],\n",
              "\n",
              "\n",
              "       [[[0., 0., 0., 0., 0.],\n",
              "         [0., 0., 0., 0., 0.],\n",
              "         [0., 0., 0., 0., 0.],\n",
              "         [0., 0., 0., 0., 0.]],\n",
              "\n",
              "        [[0., 0., 0., 0., 0.],\n",
              "         [0., 0., 0., 0., 0.],\n",
              "         [0., 0., 0., 0., 0.],\n",
              "         [0., 0., 0., 0., 0.]],\n",
              "\n",
              "        [[0., 0., 0., 0., 0.],\n",
              "         [0., 0., 0., 0., 0.],\n",
              "         [0., 0., 0., 0., 0.],\n",
              "         [0., 0., 0., 0., 0.]]]], dtype=float32)>"
            ]
          },
          "metadata": {},
          "execution_count": 26
        }
      ]
    },
    {
      "cell_type": "code",
      "source": [
        "rank_4_tensor.shape, rank_4_tensor.ndim, tf.size(rank_4_tensor).numpy() #shape = 2*3*4*5 = 120"
      ],
      "metadata": {
        "colab": {
          "base_uri": "https://localhost:8080/"
        },
        "id": "0dl5v5uFDAtq",
        "outputId": "822808b6-b9a3-4d86-bcb8-be2f930578b6"
      },
      "execution_count": null,
      "outputs": [
        {
          "output_type": "execute_result",
          "data": {
            "text/plain": [
              "(TensorShape([2, 3, 4, 5]), 4, 120)"
            ]
          },
          "metadata": {},
          "execution_count": 27
        }
      ]
    },
    {
      "cell_type": "code",
      "source": [
        "#get various attributes\n",
        "print(\"Datatype of every element: \", rank_4_tensor.dtype)\n",
        "print(\"number of dimensions :\", rank_4_tensor.ndim)\n",
        "print(\"shape of tensor: \",rank_4_tensor.shape)\n",
        "print(\"Elements along 0th axis\",rank_4_tensor.shape[0])\n",
        "print(\"Elements along last axis\",rank_4_tensor.shape[-1]) #last axis\n",
        "print(\"tottal number of elements\",tf.size(rank_4_tensor))\n",
        "print(\"tottal number of elements\",tf.size(rank_4_tensor).numpy()) #.numpy gives the exact number of elements"
      ],
      "metadata": {
        "colab": {
          "base_uri": "https://localhost:8080/"
        },
        "id": "ZvYtiXGCFTuR",
        "outputId": "7c0c484e-db1c-426f-c38a-b8ce7eb01314"
      },
      "execution_count": null,
      "outputs": [
        {
          "output_type": "stream",
          "name": "stdout",
          "text": [
            "Datatype of every element:  <dtype: 'float32'>\n",
            "number of dimensions : 4\n",
            "shape of tensor:  (2, 3, 4, 5)\n",
            "Elements along 0th axis 2\n",
            "Elements along last axis 5\n",
            "tottal number of elements tf.Tensor(120, shape=(), dtype=int32)\n",
            "tottal number of elements 120\n"
          ]
        }
      ]
    },
    {
      "cell_type": "markdown",
      "source": [
        "# Indexing Tensors\n",
        "tensors can be indexed just like Python lists"
      ],
      "metadata": {
        "id": "BDWI4SQjJF15"
      }
    },
    {
      "cell_type": "code",
      "source": [
        "#get the first 2 elements of each dimension\n",
        "rank_4_tensor[:2,:2,:2,:2]"
      ],
      "metadata": {
        "colab": {
          "base_uri": "https://localhost:8080/"
        },
        "id": "9y1xZRxQKhYV",
        "outputId": "709597ce-0507-47a8-b88a-7a90e9db6414"
      },
      "execution_count": null,
      "outputs": [
        {
          "output_type": "execute_result",
          "data": {
            "text/plain": [
              "<tf.Tensor: shape=(2, 2, 2, 2), dtype=float32, numpy=\n",
              "array([[[[0., 0.],\n",
              "         [0., 0.]],\n",
              "\n",
              "        [[0., 0.],\n",
              "         [0., 0.]]],\n",
              "\n",
              "\n",
              "       [[[0., 0.],\n",
              "         [0., 0.]],\n",
              "\n",
              "        [[0., 0.],\n",
              "         [0., 0.]]]], dtype=float32)>"
            ]
          },
          "metadata": {},
          "execution_count": 29
        }
      ]
    },
    {
      "cell_type": "code",
      "source": [
        "some_list = [[1,2,3,4],\n",
        "             [5,6,7,8]]\n",
        "some_list[:2]"
      ],
      "metadata": {
        "colab": {
          "base_uri": "https://localhost:8080/"
        },
        "id": "zSG2T-68LqtI",
        "outputId": "e01838ef-3bb4-4ea6-caf4-f73901802ab0"
      },
      "execution_count": null,
      "outputs": [
        {
          "output_type": "execute_result",
          "data": {
            "text/plain": [
              "[[1, 2, 3, 4], [5, 6, 7, 8]]"
            ]
          },
          "metadata": {},
          "execution_count": 30
        }
      ]
    },
    {
      "cell_type": "code",
      "source": [
        "#first element fromm each dimension from each index except for the final one\n",
        "rank_4_tensor[:1,:1,:1] # : means print everything of that dimension\n"
      ],
      "metadata": {
        "colab": {
          "base_uri": "https://localhost:8080/"
        },
        "id": "kZsBh1tzK8B7",
        "outputId": "fc183f4b-d257-43a9-c85f-667c8224ea1b"
      },
      "execution_count": null,
      "outputs": [
        {
          "output_type": "execute_result",
          "data": {
            "text/plain": [
              "<tf.Tensor: shape=(1, 1, 1, 5), dtype=float32, numpy=array([[[[0., 0., 0., 0., 0.]]]], dtype=float32)>"
            ]
          },
          "metadata": {},
          "execution_count": 31
        }
      ]
    },
    {
      "cell_type": "code",
      "source": [
        "# create rank 2 dimension\n",
        "rank_2_tensor = tf.constant([[10,7],\n",
        "                             [7,10]])\n",
        "rank_2_tensor.shape"
      ],
      "metadata": {
        "colab": {
          "base_uri": "https://localhost:8080/"
        },
        "id": "eAAYCnd1Oo57",
        "outputId": "e8c8bcc2-f2d0-48ef-a4ce-1a6f480ceaa8"
      },
      "execution_count": null,
      "outputs": [
        {
          "output_type": "execute_result",
          "data": {
            "text/plain": [
              "TensorShape([2, 2])"
            ]
          },
          "metadata": {},
          "execution_count": 32
        }
      ]
    },
    {
      "cell_type": "code",
      "source": [
        "#to get the last element of each row\n",
        "rank_2_tensor[:,-1].numpy()"
      ],
      "metadata": {
        "colab": {
          "base_uri": "https://localhost:8080/"
        },
        "id": "nGd6s7qjQkLH",
        "outputId": "86451a79-2c10-4cb7-f612-aaec260b9a49"
      },
      "execution_count": null,
      "outputs": [
        {
          "output_type": "execute_result",
          "data": {
            "text/plain": [
              "array([ 7, 10], dtype=int32)"
            ]
          },
          "metadata": {},
          "execution_count": 33
        }
      ]
    },
    {
      "cell_type": "code",
      "source": [
        "#add ann extra dimension\n",
        "rank_3_tensor= rank_2_tensor[...,tf.newaxis] #... means every axis before the last one or [:,:, tf.newaxis]\n",
        "rank_3_tensor"
      ],
      "metadata": {
        "colab": {
          "base_uri": "https://localhost:8080/"
        },
        "id": "kNcVFEpEQ8wd",
        "outputId": "5866ffb1-2f81-4d55-b78b-afd2a703cefe"
      },
      "execution_count": null,
      "outputs": [
        {
          "output_type": "execute_result",
          "data": {
            "text/plain": [
              "<tf.Tensor: shape=(2, 2, 1), dtype=int32, numpy=\n",
              "array([[[10],\n",
              "        [ 7]],\n",
              "\n",
              "       [[ 7],\n",
              "        [10]]], dtype=int32)>"
            ]
          },
          "metadata": {},
          "execution_count": 34
        }
      ]
    },
    {
      "cell_type": "code",
      "source": [
        "# Alternative to tf.newaxis\n",
        "tf.expand_dims(rank_3_tensor, axis = -1) #-1 means expand the final axis"
      ],
      "metadata": {
        "colab": {
          "base_uri": "https://localhost:8080/"
        },
        "id": "aCX4ZheTR04M",
        "outputId": "276b8830-b0e4-4956-84bd-940fc0dd171a"
      },
      "execution_count": null,
      "outputs": [
        {
          "output_type": "execute_result",
          "data": {
            "text/plain": [
              "<tf.Tensor: shape=(2, 2, 1, 1), dtype=int32, numpy=\n",
              "array([[[[10]],\n",
              "\n",
              "        [[ 7]]],\n",
              "\n",
              "\n",
              "       [[[ 7]],\n",
              "\n",
              "        [[10]]]], dtype=int32)>"
            ]
          },
          "metadata": {},
          "execution_count": 35
        }
      ]
    },
    {
      "cell_type": "code",
      "source": [
        "#expand 0 axis\n",
        "tf.expand_dims(rank_2_tensor, axis = 0)"
      ],
      "metadata": {
        "colab": {
          "base_uri": "https://localhost:8080/"
        },
        "id": "WLirsbCpTrP-",
        "outputId": "071f4249-b0e6-4444-9d4a-507426efad21"
      },
      "execution_count": null,
      "outputs": [
        {
          "output_type": "execute_result",
          "data": {
            "text/plain": [
              "<tf.Tensor: shape=(1, 2, 2), dtype=int32, numpy=\n",
              "array([[[10,  7],\n",
              "        [ 7, 10]]], dtype=int32)>"
            ]
          },
          "metadata": {},
          "execution_count": 36
        }
      ]
    },
    {
      "cell_type": "markdown",
      "source": [
        "# **Manipulating tensors(tensor operations)**\n",
        "+,-,*,/"
      ],
      "metadata": {
        "id": "nSko1wnlVGT9"
      }
    },
    {
      "cell_type": "code",
      "source": [
        "#add value to tensors\n",
        "tensors = tf.constant([[10,7],\n",
        "                       [7,10]])\n",
        "tensors + 10 #original tensor is unchanged"
      ],
      "metadata": {
        "colab": {
          "base_uri": "https://localhost:8080/"
        },
        "id": "iklSJWVPVdIp",
        "outputId": "1f7e1549-55d7-42fa-ea47-edd150bf1e8c"
      },
      "execution_count": null,
      "outputs": [
        {
          "output_type": "execute_result",
          "data": {
            "text/plain": [
              "<tf.Tensor: shape=(2, 2), dtype=int32, numpy=\n",
              "array([[20, 17],\n",
              "       [17, 20]], dtype=int32)>"
            ]
          },
          "metadata": {},
          "execution_count": 37
        }
      ]
    },
    {
      "cell_type": "code",
      "source": [
        "#the only way to change tensor\n",
        "tensors = tensors + 10\n",
        "tensors"
      ],
      "metadata": {
        "colab": {
          "base_uri": "https://localhost:8080/"
        },
        "id": "C3idevC6cCMl",
        "outputId": "555ffb73-88d9-4a07-8f98-d0b904205771"
      },
      "execution_count": null,
      "outputs": [
        {
          "output_type": "execute_result",
          "data": {
            "text/plain": [
              "<tf.Tensor: shape=(2, 2), dtype=int32, numpy=\n",
              "array([[20, 17],\n",
              "       [17, 20]], dtype=int32)>"
            ]
          },
          "metadata": {},
          "execution_count": 38
        }
      ]
    },
    {
      "cell_type": "code",
      "source": [
        "#multiplication\n",
        "tensors * 100"
      ],
      "metadata": {
        "colab": {
          "base_uri": "https://localhost:8080/"
        },
        "id": "a-zQnAYGcREv",
        "outputId": "228ec536-964a-4ec3-d413-799d69a39519"
      },
      "execution_count": null,
      "outputs": [
        {
          "output_type": "execute_result",
          "data": {
            "text/plain": [
              "<tf.Tensor: shape=(2, 2), dtype=int32, numpy=\n",
              "array([[2000, 1700],\n",
              "       [1700, 2000]], dtype=int32)>"
            ]
          },
          "metadata": {},
          "execution_count": 39
        }
      ]
    },
    {
      "cell_type": "code",
      "source": [
        "#subtraction\n",
        "tensors - 10"
      ],
      "metadata": {
        "colab": {
          "base_uri": "https://localhost:8080/"
        },
        "id": "JBrirqVycaLx",
        "outputId": "9d052a7c-847b-4595-bb7e-361483f535e6"
      },
      "execution_count": null,
      "outputs": [
        {
          "output_type": "execute_result",
          "data": {
            "text/plain": [
              "<tf.Tensor: shape=(2, 2), dtype=int32, numpy=\n",
              "array([[10,  7],\n",
              "       [ 7, 10]], dtype=int32)>"
            ]
          },
          "metadata": {},
          "execution_count": 40
        }
      ]
    },
    {
      "cell_type": "code",
      "source": [
        "#tensor in-built operator\n",
        "tf.multiply(tensors, 10) #it is much faster for gpu\n",
        "tf.add(tensors, 10) #etc..."
      ],
      "metadata": {
        "colab": {
          "base_uri": "https://localhost:8080/"
        },
        "id": "lF8O-ed5cwHl",
        "outputId": "00431991-633d-44ca-e0a9-3e8239fa8068"
      },
      "execution_count": null,
      "outputs": [
        {
          "output_type": "execute_result",
          "data": {
            "text/plain": [
              "<tf.Tensor: shape=(2, 2), dtype=int32, numpy=\n",
              "array([[30, 27],\n",
              "       [27, 30]], dtype=int32)>"
            ]
          },
          "metadata": {},
          "execution_count": 41
        }
      ]
    },
    {
      "cell_type": "markdown",
      "source": [
        "# **Matric Multiplication**\n",
        "\n",
        "there are two rules for matrices to multiply\n",
        "\n",
        "\n",
        "*   the inner dimensions must match\n",
        "* the resulting matrix has the shape of the outer dimensions\n",
        "\n"
      ],
      "metadata": {
        "id": "6nErgWwGdt7x"
      }
    },
    {
      "cell_type": "code",
      "source": [
        "#matrix multiplication\n",
        "print(tensors)\n",
        "tf.matmul(tensors,tensors) #applicable for same shape"
      ],
      "metadata": {
        "colab": {
          "base_uri": "https://localhost:8080/"
        },
        "id": "ioIOyeKfj7EA",
        "outputId": "8b613b07-98e1-4449-9c95-1b612f2bf38a"
      },
      "execution_count": null,
      "outputs": [
        {
          "output_type": "stream",
          "name": "stdout",
          "text": [
            "tf.Tensor(\n",
            "[[20 17]\n",
            " [17 20]], shape=(2, 2), dtype=int32)\n"
          ]
        },
        {
          "output_type": "execute_result",
          "data": {
            "text/plain": [
              "<tf.Tensor: shape=(2, 2), dtype=int32, numpy=\n",
              "array([[689, 680],\n",
              "       [680, 689]], dtype=int32)>"
            ]
          },
          "metadata": {},
          "execution_count": 42
        }
      ]
    },
    {
      "cell_type": "code",
      "source": [
        "#matric multiplication with @\n",
        "tensors @ tensors"
      ],
      "metadata": {
        "colab": {
          "base_uri": "https://localhost:8080/"
        },
        "id": "h0fMNBApm6Hg",
        "outputId": "61c4f346-4934-47c0-ed71-7db9c676fc68"
      },
      "execution_count": null,
      "outputs": [
        {
          "output_type": "execute_result",
          "data": {
            "text/plain": [
              "<tf.Tensor: shape=(2, 2), dtype=int32, numpy=\n",
              "array([[689, 680],\n",
              "       [680, 689]], dtype=int32)>"
            ]
          },
          "metadata": {},
          "execution_count": 43
        }
      ]
    },
    {
      "cell_type": "code",
      "source": [
        "X = tf.random.Generator.from_seed(42)\n",
        "X = X.uniform(shape = (3,2), minval = 0, maxval = 10, dtype = tf.int32)\n",
        "Y = tf.random.Generator.from_seed(42)\n",
        "Y = Y.uniform(shape = (3,2), minval = 0, maxval = 20, dtype = tf.int32)\n",
        "# array([[ 3, 17],\n",
        "#         [ 6, 18],\n",
        "#         [ 6,  1]], dtype=int32)>,\n",
        "#  <tf.Tensor: shape=(3, 2), dtype=int32, numpy=\n",
        "#  array([[3, 7],\n",
        "#         [6, 8],\n",
        "#         [6, 1]], dtype=int32)>)\n"
      ],
      "metadata": {
        "id": "bR-hCvy2mYOs"
      },
      "execution_count": null,
      "outputs": []
    },
    {
      "cell_type": "code",
      "source": [
        "#try to multiply tensors of same shape\n",
        "X.shape, Y.shape #the outer dimensions dont match (3,2) (3,2)\n",
        "Y1 =tf.reshape(Y, shape = (2,3))\n",
        "\n"
      ],
      "metadata": {
        "id": "R_boqVQzrDD5"
      },
      "execution_count": null,
      "outputs": []
    },
    {
      "cell_type": "code",
      "source": [
        "#try to multiply X with reshaped Y1\n",
        "# cannot use Y cause it remains in original shape\n",
        "tf.matmul(X,Y1)  # 3 X 3\n",
        "#or\n",
        "X @ tf.reshape(Y, shape= (2,3)) # making the outer layer same and multiplying it with @"
      ],
      "metadata": {
        "colab": {
          "base_uri": "https://localhost:8080/"
        },
        "id": "yhtsrXmj2cP6",
        "outputId": "bb5944dd-0cbf-4e42-c8d1-87f833758331"
      },
      "execution_count": null,
      "outputs": [
        {
          "output_type": "execute_result",
          "data": {
            "text/plain": [
              "<tf.Tensor: shape=(3, 3), dtype=int32, numpy=\n",
              "array([[135,  93,  25],\n",
              "       [162, 150,  44],\n",
              "       [ 36, 108,  37]], dtype=int32)>"
            ]
          },
          "metadata": {},
          "execution_count": 46
        }
      ]
    },
    {
      "cell_type": "code",
      "source": [
        "#try changing shape x\n",
        "X1 = tf.reshape(X, shape = (2,3))\n",
        "X1 @ Y #2 X 2"
      ],
      "metadata": {
        "colab": {
          "base_uri": "https://localhost:8080/"
        },
        "id": "2z9CGkmX3rsj",
        "outputId": "f4c21acc-5222-489b-a5e1-3bc411925c45"
      },
      "execution_count": null,
      "outputs": [
        {
          "output_type": "execute_result",
          "data": {
            "text/plain": [
              "<tf.Tensor: shape=(2, 2), dtype=int32, numpy=\n",
              "array([[ 87, 183],\n",
              "       [ 66, 245]], dtype=int32)>"
            ]
          },
          "metadata": {},
          "execution_count": 47
        }
      ]
    },
    {
      "cell_type": "code",
      "source": [
        "X, tf.transpose(X), tf.reshape(X, shape = (2,3))"
      ],
      "metadata": {
        "colab": {
          "base_uri": "https://localhost:8080/"
        },
        "id": "1t6rkYkX4K_U",
        "outputId": "ceb60090-abaf-4b6a-b47e-93b630492463"
      },
      "execution_count": null,
      "outputs": [
        {
          "output_type": "execute_result",
          "data": {
            "text/plain": [
              "(<tf.Tensor: shape=(3, 2), dtype=int32, numpy=\n",
              " array([[3, 7],\n",
              "        [6, 8],\n",
              "        [6, 1]], dtype=int32)>,\n",
              " <tf.Tensor: shape=(2, 3), dtype=int32, numpy=\n",
              " array([[3, 6, 6],\n",
              "        [7, 8, 1]], dtype=int32)>,\n",
              " <tf.Tensor: shape=(2, 3), dtype=int32, numpy=\n",
              " array([[3, 7, 6],\n",
              "        [8, 6, 1]], dtype=int32)>)"
            ]
          },
          "metadata": {},
          "execution_count": 48
        }
      ]
    },
    {
      "cell_type": "code",
      "source": [
        "#transpose multiplication\n",
        "tf.matmul(tf.transpose(X),Y) #transpose basically changes the axis"
      ],
      "metadata": {
        "colab": {
          "base_uri": "https://localhost:8080/"
        },
        "id": "wDA8NeSH45tJ",
        "outputId": "f54eb513-00cc-47e7-b887-92a779f1fb99"
      },
      "execution_count": null,
      "outputs": [
        {
          "output_type": "execute_result",
          "data": {
            "text/plain": [
              "<tf.Tensor: shape=(2, 2), dtype=int32, numpy=\n",
              "array([[ 81, 165],\n",
              "       [ 75, 264]], dtype=int32)>"
            ]
          },
          "metadata": {},
          "execution_count": 49
        }
      ]
    },
    {
      "cell_type": "markdown",
      "source": [
        "# **The dot product**\n",
        "\n",
        "Matrix multiplication is also reffered to as the dot product:\n",
        "\n",
        "You can perform matrix multiplication using:\n",
        "*tf.matmul()\n",
        "*tf.tensordot()[link text](https://)"
      ],
      "metadata": {
        "id": "nnFpQ_8Z5SYd"
      }
    },
    {
      "cell_type": "code",
      "source": [
        "#perfom dot product with X and y\n",
        "tf.tensordot(tf.transpose(X), Y, axes = 1)"
      ],
      "metadata": {
        "id": "Zy9k4NSj6Yay",
        "colab": {
          "base_uri": "https://localhost:8080/"
        },
        "outputId": "fa2a31d0-95fa-433a-c158-dcb084e85cef"
      },
      "execution_count": null,
      "outputs": [
        {
          "output_type": "execute_result",
          "data": {
            "text/plain": [
              "<tf.Tensor: shape=(2, 2), dtype=int32, numpy=\n",
              "array([[ 81, 165],\n",
              "       [ 75, 264]], dtype=int32)>"
            ]
          },
          "metadata": {},
          "execution_count": 50
        }
      ]
    },
    {
      "cell_type": "code",
      "source": [
        "#perform matrix multiplicatio n between X and Y (transpose)\n",
        "tf.matmul(X, tf.transpose(Y))"
      ],
      "metadata": {
        "colab": {
          "base_uri": "https://localhost:8080/"
        },
        "id": "4dRiSmfB7ZC1",
        "outputId": "bd29c29c-6de4-49e3-f00b-132e0591d403"
      },
      "execution_count": null,
      "outputs": [
        {
          "output_type": "execute_result",
          "data": {
            "text/plain": [
              "<tf.Tensor: shape=(3, 3), dtype=int32, numpy=\n",
              "array([[128, 144,  25],\n",
              "       [154, 180,  44],\n",
              "       [ 35,  54,  37]], dtype=int32)>"
            ]
          },
          "metadata": {},
          "execution_count": 51
        }
      ]
    },
    {
      "cell_type": "code",
      "source": [
        "#tensordot with reshaped Y\n",
        "tf.tensordot(X, tf.reshape(Y, shape = (2,3)), axes = 1)"
      ],
      "metadata": {
        "colab": {
          "base_uri": "https://localhost:8080/"
        },
        "id": "QlEiP1LI7nTv",
        "outputId": "fcf1bc04-e125-4185-ce21-3512385c8de3"
      },
      "execution_count": null,
      "outputs": [
        {
          "output_type": "execute_result",
          "data": {
            "text/plain": [
              "<tf.Tensor: shape=(3, 3), dtype=int32, numpy=\n",
              "array([[135,  93,  25],\n",
              "       [162, 150,  44],\n",
              "       [ 36, 108,  37]], dtype=int32)>"
            ]
          },
          "metadata": {},
          "execution_count": 52
        }
      ]
    },
    {
      "cell_type": "code",
      "source": [
        "#reshape X and Y (same values above)\n",
        "tf.matmul(X, tf.reshape(Y,shape = (2,3)))"
      ],
      "metadata": {
        "colab": {
          "base_uri": "https://localhost:8080/"
        },
        "id": "ikBauHgj9Bmi",
        "outputId": "08c81a81-565a-455a-a326-55b748d0ae73"
      },
      "execution_count": null,
      "outputs": [
        {
          "output_type": "execute_result",
          "data": {
            "text/plain": [
              "<tf.Tensor: shape=(3, 3), dtype=int32, numpy=\n",
              "array([[135,  93,  25],\n",
              "       [162, 150,  44],\n",
              "       [ 36, 108,  37]], dtype=int32)>"
            ]
          },
          "metadata": {},
          "execution_count": 53
        }
      ]
    },
    {
      "cell_type": "code",
      "source": [
        "#check values of y , reshape Y, and trnspose Y\n",
        "\n",
        "print(\"Normal Y: \",Y)\n",
        "print(\"\\n\")\n",
        "print(\"reshaped Y: \", tf.reshape(Y, shape = (2,3)))\n",
        "print(\"\\n\")\n",
        "print(\"Transpose Y : \",tf.transpose(Y))"
      ],
      "metadata": {
        "colab": {
          "base_uri": "https://localhost:8080/"
        },
        "id": "DU2UwrNv9iMe",
        "outputId": "b608fc47-6ccd-4f7c-804d-72e6820affc3"
      },
      "execution_count": null,
      "outputs": [
        {
          "output_type": "stream",
          "name": "stdout",
          "text": [
            "Normal Y:  tf.Tensor(\n",
            "[[ 3 17]\n",
            " [ 6 18]\n",
            " [ 6  1]], shape=(3, 2), dtype=int32)\n",
            "\n",
            "\n",
            "reshaped Y:  tf.Tensor(\n",
            "[[ 3 17  6]\n",
            " [18  6  1]], shape=(2, 3), dtype=int32)\n",
            "\n",
            "\n",
            "Transpose Y :  tf.Tensor(\n",
            "[[ 3  6  6]\n",
            " [17 18  1]], shape=(2, 3), dtype=int32)\n"
          ]
        }
      ]
    },
    {
      "cell_type": "markdown",
      "source": [
        "**generally when performing matrix mul on 2 tensors and one of the axes dosent line up you with transpose instead of reshape to satisfy multiplication rules**"
      ],
      "metadata": {
        "id": "CFt8F10j_t6c"
      }
    },
    {
      "cell_type": "markdown",
      "source": [
        "# Changing the datatype of tensor"
      ],
      "metadata": {
        "id": "q9mIRQHMHQk5"
      }
    },
    {
      "cell_type": "code",
      "source": [
        "B = tf.constant([1.4, 1.7])\n",
        "B.dtype"
      ],
      "metadata": {
        "colab": {
          "base_uri": "https://localhost:8080/"
        },
        "id": "ypsqqCo0HgRk",
        "outputId": "7a6aad70-089d-4d0c-cdda-002b70b4ea00"
      },
      "execution_count": null,
      "outputs": [
        {
          "output_type": "execute_result",
          "data": {
            "text/plain": [
              "tf.float32"
            ]
          },
          "metadata": {},
          "execution_count": 55
        }
      ]
    },
    {
      "cell_type": "code",
      "source": [
        "C = tf.constant([4,5])\n",
        "C.dtype"
      ],
      "metadata": {
        "colab": {
          "base_uri": "https://localhost:8080/"
        },
        "id": "dOAKi6e5H-BP",
        "outputId": "ce644f9a-3cec-4bc8-8bf1-aae447410ccb"
      },
      "execution_count": null,
      "outputs": [
        {
          "output_type": "execute_result",
          "data": {
            "text/plain": [
              "tf.int32"
            ]
          },
          "metadata": {},
          "execution_count": 56
        }
      ]
    },
    {
      "cell_type": "code",
      "source": [
        "#Change from float32 to float16 (reduced precesion)\n",
        "D = tf.cast(B, dtype = tf.int16)\n",
        "D.dtype"
      ],
      "metadata": {
        "colab": {
          "base_uri": "https://localhost:8080/"
        },
        "id": "bWxqycqpJlWg",
        "outputId": "622694e0-ca50-4c99-fe9f-ad4c408cdce5"
      },
      "execution_count": null,
      "outputs": [
        {
          "output_type": "execute_result",
          "data": {
            "text/plain": [
              "tf.int16"
            ]
          },
          "metadata": {},
          "execution_count": 57
        }
      ]
    },
    {
      "cell_type": "code",
      "source": [
        "#change from int32 to int16\n",
        "E = tf.cast(C, dtype = tf.int16)\n",
        "E.dtype"
      ],
      "metadata": {
        "colab": {
          "base_uri": "https://localhost:8080/"
        },
        "id": "hEhkM_wdKwRJ",
        "outputId": "406c1032-d550-4990-b700-b5860d4e2f32"
      },
      "execution_count": null,
      "outputs": [
        {
          "output_type": "execute_result",
          "data": {
            "text/plain": [
              "tf.int16"
            ]
          },
          "metadata": {},
          "execution_count": 58
        }
      ]
    },
    {
      "cell_type": "code",
      "source": [
        "E = tf.cast(E, dtype = tf.float32)\n",
        "E.dtype"
      ],
      "metadata": {
        "colab": {
          "base_uri": "https://localhost:8080/"
        },
        "id": "SOccN8k5OYgy",
        "outputId": "4c7b8e83-f0f1-4fa0-a249-0bf4d81e25bd"
      },
      "execution_count": null,
      "outputs": [
        {
          "output_type": "execute_result",
          "data": {
            "text/plain": [
              "tf.float32"
            ]
          },
          "metadata": {},
          "execution_count": 59
        }
      ]
    },
    {
      "cell_type": "markdown",
      "source": [
        "## Agregatting Tensors\n",
        "Condesing them from multiple values to a smaller amount of values"
      ],
      "metadata": {
        "id": "Vp7V6SiyO8TU"
      }
    },
    {
      "cell_type": "code",
      "source": [
        "# get the absolute values\n",
        "D = tf.constant([-7,-10])\n",
        "tf.abs(D) #take all negative values and return them to negative values\n"
      ],
      "metadata": {
        "colab": {
          "base_uri": "https://localhost:8080/"
        },
        "id": "bXlspofIPDS0",
        "outputId": "2969f29e-00bd-4341-f86e-aa12c9bfd966"
      },
      "execution_count": null,
      "outputs": [
        {
          "output_type": "execute_result",
          "data": {
            "text/plain": [
              "<tf.Tensor: shape=(2,), dtype=int32, numpy=array([ 7, 10], dtype=int32)>"
            ]
          },
          "metadata": {},
          "execution_count": 60
        }
      ]
    },
    {
      "cell_type": "markdown",
      "source": [
        "#lets go through following forms of aggregation\n",
        "* Get the minimum\n",
        "* Get the maximum\n",
        "* Get the mean of a tensor\n",
        "* Get the sum of a tensor"
      ],
      "metadata": {
        "id": "y84UkPHlQFpy"
      }
    },
    {
      "cell_type": "code",
      "source": [
        "#create a random tensor with values between 0 and 100 of size 50\n",
        "E = tf.constant(np.random.randint(0,100, size=50))\n",
        "E"
      ],
      "metadata": {
        "colab": {
          "base_uri": "https://localhost:8080/"
        },
        "id": "EIPSRibVQ2we",
        "outputId": "022d913c-0f1c-4665-83e9-4722795a0c64"
      },
      "execution_count": null,
      "outputs": [
        {
          "output_type": "execute_result",
          "data": {
            "text/plain": [
              "<tf.Tensor: shape=(50,), dtype=int64, numpy=\n",
              "array([50,  0, 61, 87, 58, 78,  4,  6, 83, 49, 70, 32, 27, 95, 22, 35, 63,\n",
              "       43, 62, 66, 73,  0, 43, 82, 48, 71, 53, 44, 27, 67, 84, 94, 80,  5,\n",
              "       96, 63, 65, 67, 29,  4,  0, 45, 97, 99, 37, 57, 44, 54, 98, 62])>"
            ]
          },
          "metadata": {},
          "execution_count": 61
        }
      ]
    },
    {
      "cell_type": "code",
      "source": [
        "# find the min of a tensor\n",
        "tf.reduce_min(E)\n",
        "#for numpy it is\n",
        "#np.min(E)\n"
      ],
      "metadata": {
        "colab": {
          "base_uri": "https://localhost:8080/"
        },
        "id": "fXQHVjB0V8wE",
        "outputId": "5dbed671-12c2-4883-a35b-510ed074f3ca"
      },
      "execution_count": null,
      "outputs": [
        {
          "output_type": "execute_result",
          "data": {
            "text/plain": [
              "<tf.Tensor: shape=(), dtype=int64, numpy=0>"
            ]
          },
          "metadata": {},
          "execution_count": 62
        }
      ]
    },
    {
      "cell_type": "code",
      "source": [
        "#find maximum\n",
        "tf.reduce_max(E)"
      ],
      "metadata": {
        "colab": {
          "base_uri": "https://localhost:8080/"
        },
        "id": "OiocW2qkWX7Y",
        "outputId": "7c6be54d-c4d6-4e41-c7df-b0c52c390d63"
      },
      "execution_count": null,
      "outputs": [
        {
          "output_type": "execute_result",
          "data": {
            "text/plain": [
              "<tf.Tensor: shape=(), dtype=int64, numpy=99>"
            ]
          },
          "metadata": {},
          "execution_count": 63
        }
      ]
    },
    {
      "cell_type": "code",
      "source": [
        "#find mean\n",
        "tf.reduce_mean(E)"
      ],
      "metadata": {
        "colab": {
          "base_uri": "https://localhost:8080/"
        },
        "id": "JjLaIOf0Wdlv",
        "outputId": "223e61a7-3236-4aed-cc4b-53e2ba118163"
      },
      "execution_count": null,
      "outputs": [
        {
          "output_type": "execute_result",
          "data": {
            "text/plain": [
              "<tf.Tensor: shape=(), dtype=int64, numpy=53>"
            ]
          },
          "metadata": {},
          "execution_count": 64
        }
      ]
    },
    {
      "cell_type": "code",
      "source": [
        "#find sum\n",
        "tf.reduce_sum(E)"
      ],
      "metadata": {
        "colab": {
          "base_uri": "https://localhost:8080/"
        },
        "id": "H36e7AXjWxHg",
        "outputId": "3b0a42b4-5038-4251-b958-7501bb715c96"
      },
      "execution_count": null,
      "outputs": [
        {
          "output_type": "execute_result",
          "data": {
            "text/plain": [
              "<tf.Tensor: shape=(), dtype=int64, numpy=2679>"
            ]
          },
          "metadata": {},
          "execution_count": 65
        }
      ]
    },
    {
      "cell_type": "code",
      "source": [
        "#find varience\n",
        "import tensorflow_probability as tfp\n",
        "tfp.stats.variance(E)\n",
        "#or\n",
        "tf.math.reduce_variance(tf.cast(E, dtype = tf.float32))"
      ],
      "metadata": {
        "colab": {
          "base_uri": "https://localhost:8080/"
        },
        "id": "h6oK5OtUe7IR",
        "outputId": "641afd31-bf9c-47c0-a9ee-cc39d7811f53"
      },
      "execution_count": null,
      "outputs": [
        {
          "output_type": "execute_result",
          "data": {
            "text/plain": [
              "<tf.Tensor: shape=(), dtype=float32, numpy=817.6036>"
            ]
          },
          "metadata": {},
          "execution_count": 66
        }
      ]
    },
    {
      "cell_type": "code",
      "source": [
        "#find standard deviation\n",
        "\n",
        "tf.math.reduce_std(tf.cast(E, dtype= tf.float32)) #if you get typeerror check your datatype"
      ],
      "metadata": {
        "colab": {
          "base_uri": "https://localhost:8080/"
        },
        "id": "EYotnm_FgsHC",
        "outputId": "f3faf2b5-3841-4b9c-fdde-748f86791d1d"
      },
      "execution_count": null,
      "outputs": [
        {
          "output_type": "execute_result",
          "data": {
            "text/plain": [
              "<tf.Tensor: shape=(), dtype=float32, numpy=28.59377>"
            ]
          },
          "metadata": {},
          "execution_count": 67
        }
      ]
    },
    {
      "cell_type": "markdown",
      "source": [
        "# Positional Maximum and minimum of a tensor (returns the index of maximum and minimum value)\n",
        "\n"
      ],
      "metadata": {
        "id": "9_esA6mPn2-V"
      }
    },
    {
      "cell_type": "code",
      "source": [
        "#create a new tensor for finding positional minimum and maximum\n",
        "F = tf.random.Generator.from_seed(42)\n",
        "F = F.uniform(shape= [50])\n",
        "F"
      ],
      "metadata": {
        "colab": {
          "base_uri": "https://localhost:8080/"
        },
        "id": "yQPzLygVrwB_",
        "outputId": "332767ca-7547-4a2b-d4b9-ada8027075b5"
      },
      "execution_count": null,
      "outputs": [
        {
          "output_type": "execute_result",
          "data": {
            "text/plain": [
              "<tf.Tensor: shape=(50,), dtype=float32, numpy=\n",
              "array([0.7493447 , 0.73561966, 0.45230794, 0.49039817, 0.1889317 ,\n",
              "       0.52027524, 0.8736881 , 0.46921718, 0.63932586, 0.6467117 ,\n",
              "       0.96246755, 0.41009164, 0.86540747, 0.8862978 , 0.27795732,\n",
              "       0.8857763 , 0.2179842 , 0.29115117, 0.03953862, 0.8136791 ,\n",
              "       0.8139852 , 0.52180684, 0.12496924, 0.5488483 , 0.7755773 ,\n",
              "       0.6184403 , 0.24936223, 0.89341843, 0.28422844, 0.70332646,\n",
              "       0.2622137 , 0.4432162 , 0.466465  , 0.05981874, 0.40098202,\n",
              "       0.69292355, 0.1284684 , 0.22770369, 0.33691216, 0.5329138 ,\n",
              "       0.5914326 , 0.21738243, 0.5322075 , 0.05148339, 0.03951418,\n",
              "       0.41866875, 0.78939915, 0.04384279, 0.96955836, 0.49116182],\n",
              "      dtype=float32)>"
            ]
          },
          "metadata": {},
          "execution_count": 71
        }
      ]
    },
    {
      "cell_type": "code",
      "source": [
        "#Find positional maximum\n",
        "tf.argmax(F) # np.argmax()"
      ],
      "metadata": {
        "colab": {
          "base_uri": "https://localhost:8080/"
        },
        "id": "PEYnVlf0tKN7",
        "outputId": "d441efdf-f90e-49fa-e651-eededa8883ea"
      },
      "execution_count": null,
      "outputs": [
        {
          "output_type": "execute_result",
          "data": {
            "text/plain": [
              "<tf.Tensor: shape=(5,), dtype=int64, numpy=array([2, 1, 5, 9, 3])>"
            ]
          },
          "metadata": {},
          "execution_count": 69
        }
      ]
    },
    {
      "cell_type": "code",
      "source": [
        "#index of the largest value\n",
        "F[tf.argmax(F)] #gives out the element of maximum\n",
        "tf.reduce_max(F)"
      ],
      "metadata": {
        "colab": {
          "base_uri": "https://localhost:8080/"
        },
        "id": "sZXG8yphu-Us",
        "outputId": "890d9695-0fee-4434-cc23-cefc86a1e158"
      },
      "execution_count": null,
      "outputs": [
        {
          "output_type": "execute_result",
          "data": {
            "text/plain": [
              "<tf.Tensor: shape=(), dtype=float32, numpy=0.96955836>"
            ]
          },
          "metadata": {},
          "execution_count": 72
        }
      ]
    },
    {
      "cell_type": "code",
      "source": [
        "#find positional minimum\n",
        "tf.argmin(F) #np.argmin"
      ],
      "metadata": {
        "colab": {
          "base_uri": "https://localhost:8080/"
        },
        "id": "nnMhnHbWvGGq",
        "outputId": "72f0ad52-a71a-460b-ca23-ff7782f28191"
      },
      "execution_count": null,
      "outputs": [
        {
          "output_type": "execute_result",
          "data": {
            "text/plain": [
              "<tf.Tensor: shape=(), dtype=int64, numpy=44>"
            ]
          },
          "metadata": {},
          "execution_count": 74
        }
      ]
    },
    {
      "cell_type": "code",
      "source": [
        "F[tf.argmin(F)]\n",
        "tf.reduce_min(F)"
      ],
      "metadata": {
        "colab": {
          "base_uri": "https://localhost:8080/"
        },
        "id": "g09a5-wfvVU2",
        "outputId": "3d5861a9-3e8f-412e-e0c5-6d8197cba507"
      },
      "execution_count": null,
      "outputs": [
        {
          "output_type": "execute_result",
          "data": {
            "text/plain": [
              "<tf.Tensor: shape=(), dtype=float32, numpy=0.039514184>"
            ]
          },
          "metadata": {},
          "execution_count": 73
        }
      ]
    },
    {
      "cell_type": "markdown",
      "source": [
        "# Squeezing a tensor (removing all single dimensions)"
      ],
      "metadata": {
        "id": "Nt9DtksEw2rj"
      }
    },
    {
      "cell_type": "code",
      "source": [
        "#create a tensor to get started\n",
        "tf.random.set_seed(42) #to keep the random values same\n",
        "G = tf.constant(tf.random.uniform(shape = [50]), shape=[1,1,1,1,50] )\n",
        "G"
      ],
      "metadata": {
        "colab": {
          "base_uri": "https://localhost:8080/"
        },
        "id": "tXjCry0Nxd7_",
        "outputId": "aa5bdc5a-bb98-4580-df16-835fe7cd8881"
      },
      "execution_count": null,
      "outputs": [
        {
          "output_type": "execute_result",
          "data": {
            "text/plain": [
              "<tf.Tensor: shape=(1, 1, 1, 1, 50), dtype=float32, numpy=\n",
              "array([[[[[0.6645621 , 0.44100678, 0.3528825 , 0.46448255, 0.03366041,\n",
              "           0.68467236, 0.74011743, 0.8724445 , 0.22632635, 0.22319686,\n",
              "           0.3103881 , 0.7223358 , 0.13318717, 0.5480639 , 0.5746088 ,\n",
              "           0.8996835 , 0.00946367, 0.5212307 , 0.6345445 , 0.1993283 ,\n",
              "           0.72942245, 0.54583454, 0.10756552, 0.6767061 , 0.6602763 ,\n",
              "           0.33695042, 0.60141766, 0.21062577, 0.8527372 , 0.44062173,\n",
              "           0.9485276 , 0.23752594, 0.81179297, 0.5263394 , 0.494308  ,\n",
              "           0.21612847, 0.8457197 , 0.8718841 , 0.3083862 , 0.6868038 ,\n",
              "           0.23764038, 0.7817228 , 0.9671384 , 0.06870162, 0.79873943,\n",
              "           0.66028714, 0.5871513 , 0.16461694, 0.7381023 , 0.32054043]]]]],\n",
              "      dtype=float32)>"
            ]
          },
          "metadata": {},
          "execution_count": 75
        }
      ]
    },
    {
      "cell_type": "code",
      "source": [
        "squeeze= tf.squeeze(G)\n",
        "squeeze.shape"
      ],
      "metadata": {
        "colab": {
          "base_uri": "https://localhost:8080/"
        },
        "id": "BtzXjIAEymwN",
        "outputId": "6d1260eb-fbeb-4f94-c4e6-8994f198ba45"
      },
      "execution_count": null,
      "outputs": [
        {
          "output_type": "execute_result",
          "data": {
            "text/plain": [
              "TensorShape([50])"
            ]
          },
          "metadata": {},
          "execution_count": 77
        }
      ]
    },
    {
      "cell_type": "markdown",
      "source": [
        "# One hot encoding tensors"
      ],
      "metadata": {
        "id": "oCW6vRkI1CCs"
      }
    },
    {
      "cell_type": "code",
      "source": [
        "#create a list of indices\n",
        "some_list = [0,1,2,3]# could be red, green, blue, purple\n",
        "depth = 4 #total number of dimensions\n",
        "#one hot encode our list of indices\n",
        "tf.one_hot(some_list, depth)"
      ],
      "metadata": {
        "colab": {
          "base_uri": "https://localhost:8080/"
        },
        "id": "_7FWFdXm1K3O",
        "outputId": "d927fd68-46de-491b-c4b7-8e204b90aa0a"
      },
      "execution_count": null,
      "outputs": [
        {
          "output_type": "execute_result",
          "data": {
            "text/plain": [
              "<tf.Tensor: shape=(4, 4), dtype=float32, numpy=\n",
              "array([[1., 0., 0., 0.],\n",
              "       [0., 1., 0., 0.],\n",
              "       [0., 0., 1., 0.],\n",
              "       [0., 0., 0., 1.]], dtype=float32)>"
            ]
          },
          "metadata": {},
          "execution_count": 78
        }
      ]
    },
    {
      "cell_type": "code",
      "source": [
        "#specify custom values for one hot encoding\n",
        "tf.one_hot(some_list, depth, on_value=\"My name is Ayush\", off_value=\"My name is not Ayush\")\n",
        "#on_value = 1, of_value = 0"
      ],
      "metadata": {
        "colab": {
          "base_uri": "https://localhost:8080/"
        },
        "id": "2wPoZLQO3pym",
        "outputId": "438ed44a-a611-4ae5-e4f6-8aa6b9a0cfe4"
      },
      "execution_count": null,
      "outputs": [
        {
          "output_type": "execute_result",
          "data": {
            "text/plain": [
              "<tf.Tensor: shape=(4, 4), dtype=string, numpy=\n",
              "array([[b'My name is Ayush', b'My name is not Ayush',\n",
              "        b'My name is not Ayush', b'My name is not Ayush'],\n",
              "       [b'My name is not Ayush', b'My name is Ayush',\n",
              "        b'My name is not Ayush', b'My name is not Ayush'],\n",
              "       [b'My name is not Ayush', b'My name is not Ayush',\n",
              "        b'My name is Ayush', b'My name is not Ayush'],\n",
              "       [b'My name is not Ayush', b'My name is not Ayush',\n",
              "        b'My name is not Ayush', b'My name is Ayush']], dtype=object)>"
            ]
          },
          "metadata": {},
          "execution_count": 79
        }
      ]
    },
    {
      "cell_type": "markdown",
      "source": [
        "#square root, log Squaring\n"
      ],
      "metadata": {
        "id": "_7WspMU36DwL"
      }
    },
    {
      "cell_type": "code",
      "source": [
        "T= tf.range(1,10)\n",
        "\n"
      ],
      "metadata": {
        "id": "QqW9dadJ6Pdk"
      },
      "execution_count": null,
      "outputs": []
    },
    {
      "cell_type": "code",
      "source": [
        "#squaring\n",
        "tf.square(T)"
      ],
      "metadata": {
        "colab": {
          "base_uri": "https://localhost:8080/"
        },
        "id": "n8RzQJpA6vKT",
        "outputId": "8492d4d0-5618-401b-e778-644042330595"
      },
      "execution_count": null,
      "outputs": [
        {
          "output_type": "execute_result",
          "data": {
            "text/plain": [
              "<tf.Tensor: shape=(9,), dtype=int32, numpy=array([ 1,  4,  9, 16, 25, 36, 49, 64, 81], dtype=int32)>"
            ]
          },
          "metadata": {},
          "execution_count": 81
        }
      ]
    },
    {
      "cell_type": "code",
      "source": [
        "#squareroot (method requires non int type)\n",
        "tf.math.sqrt(tf.cast(T, dtype= tf.float32))"
      ],
      "metadata": {
        "colab": {
          "base_uri": "https://localhost:8080/"
        },
        "id": "I62lYaZo66gP",
        "outputId": "f4f66586-f0af-422f-9786-c5981ea95767"
      },
      "execution_count": null,
      "outputs": [
        {
          "output_type": "execute_result",
          "data": {
            "text/plain": [
              "<tf.Tensor: shape=(9,), dtype=float32, numpy=\n",
              "array([1.       , 1.4142135, 1.7320508, 2.       , 2.236068 , 2.4494898,\n",
              "       2.6457512, 2.828427 , 3.       ], dtype=float32)>"
            ]
          },
          "metadata": {},
          "execution_count": 82
        }
      ]
    },
    {
      "cell_type": "code",
      "source": [
        "#find log\n",
        "tf.math.log(tf.cast(T, dtype= tf.float32))\n"
      ],
      "metadata": {
        "colab": {
          "base_uri": "https://localhost:8080/"
        },
        "id": "-hPoWkmO7iCZ",
        "outputId": "50fd022f-125c-4a97-9a59-3d9190f80b98"
      },
      "execution_count": null,
      "outputs": [
        {
          "output_type": "execute_result",
          "data": {
            "text/plain": [
              "<tf.Tensor: shape=(9,), dtype=float32, numpy=\n",
              "array([0.       , 0.6931472, 1.0986123, 1.3862944, 1.609438 , 1.7917595,\n",
              "       1.9459102, 2.0794415, 2.1972246], dtype=float32)>"
            ]
          },
          "metadata": {},
          "execution_count": 83
        }
      ]
    },
    {
      "cell_type": "markdown",
      "source": [
        "# Numpy with tensors\n",
        "tensorflow interacts beutifully with numpy arrays"
      ],
      "metadata": {
        "id": "xfbp65ls7-Dd"
      }
    },
    {
      "cell_type": "code",
      "source": [
        "#create a tensor directly from a numoy arrays\n",
        "J = tf.constant(np.array([3.,7.,10.]))\n",
        "J"
      ],
      "metadata": {
        "colab": {
          "base_uri": "https://localhost:8080/"
        },
        "id": "8K5rWfx68Dim",
        "outputId": "f150ed14-f9a6-4b86-f8e9-75f7f1454039"
      },
      "execution_count": null,
      "outputs": [
        {
          "output_type": "execute_result",
          "data": {
            "text/plain": [
              "<tf.Tensor: shape=(3,), dtype=float64, numpy=array([ 3.,  7., 10.])>"
            ]
          },
          "metadata": {},
          "execution_count": 84
        }
      ]
    },
    {
      "cell_type": "code",
      "source": [
        "# convert tensor back to numpy array\n",
        "\n",
        "np.array(J), type(np.array(J))"
      ],
      "metadata": {
        "colab": {
          "base_uri": "https://localhost:8080/"
        },
        "id": "ezkJ_ffC8ltW",
        "outputId": "2ff85fbc-a8b0-46d8-ab37-9d60284d77ae"
      },
      "execution_count": null,
      "outputs": [
        {
          "output_type": "execute_result",
          "data": {
            "text/plain": [
              "(array([ 3.,  7., 10.]), numpy.ndarray)"
            ]
          },
          "metadata": {},
          "execution_count": 85
        }
      ]
    },
    {
      "cell_type": "code",
      "source": [
        "#the deafult type of each are slightly different\n",
        "numpy_J = tf.constant(np.array([1.,2.,3.]))\n",
        "tensor_J = tf.constant([1.,2.,3.])\n",
        "#datatypes of each\n",
        "numpy_J.dtype, tensor_J.dtype"
      ],
      "metadata": {
        "colab": {
          "base_uri": "https://localhost:8080/"
        },
        "id": "lrzgC34QG_9p",
        "outputId": "8b7744a7-f912-426c-f767-46c317cb8e9a"
      },
      "execution_count": null,
      "outputs": [
        {
          "output_type": "execute_result",
          "data": {
            "text/plain": [
              "(tf.float64, tf.float32)"
            ]
          },
          "metadata": {},
          "execution_count": 86
        }
      ]
    },
    {
      "cell_type": "markdown",
      "source": [
        "#Finding access to GPU\n"
      ],
      "metadata": {
        "id": "vL29lk77Iw4D"
      }
    },
    {
      "cell_type": "code",
      "source": [
        "import tensorflow as tf\n",
        "tf.config.list_logical_devices() #first change the runtime to GPU in Runtime"
      ],
      "metadata": {
        "colab": {
          "base_uri": "https://localhost:8080/"
        },
        "id": "gle5VYCgI4AX",
        "outputId": "771362a5-9e5b-43cd-fd45-045734791db4"
      },
      "execution_count": null,
      "outputs": [
        {
          "output_type": "execute_result",
          "data": {
            "text/plain": [
              "[LogicalDevice(name='/device:CPU:0', device_type='CPU')]"
            ]
          },
          "metadata": {},
          "execution_count": 90
        }
      ]
    },
    {
      "cell_type": "code",
      "source": [
        "!nvidia-smi"
      ],
      "metadata": {
        "colab": {
          "base_uri": "https://localhost:8080/"
        },
        "id": "FsRSN2qgJKug",
        "outputId": "26121865-1c7b-4a7a-9dd0-2940499e655e"
      },
      "execution_count": null,
      "outputs": [
        {
          "output_type": "stream",
          "name": "stdout",
          "text": [
            "/bin/bash: line 1: nvidia-smi: command not found\n"
          ]
        }
      ]
    },
    {
      "cell_type": "markdown",
      "source": [
        "If you have access to a CUDA - enabled GPU, Tensorflow will automatically use it whenever possible"
      ],
      "metadata": {
        "id": "0EKgjChnKSGI"
      }
    }
  ]
}